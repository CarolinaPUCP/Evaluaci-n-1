{
 "cells": [
  {
   "cell_type": "code",
   "execution_count": 9,
   "id": "454e1b87",
   "metadata": {},
   "outputs": [],
   "source": [
    "import pandas as pd\n",
    "import numpy as np\n",
    "\n",
    "# MIGRACION\n",
    "df_migracion=pd.read_excel(\"DATA-MIGRACION.xls\")\n",
    "\n",
    "# COVID\n",
    "df_covid=pd.read_csv(\"DATA-COVID-MUERTES.csv\")\n",
    "\n",
    "# CARBON\n",
    "df_carbon=pd.read_excel(\"DATA-CARBON.xlsx\")"
   ]
  },
  {
   "cell_type": "code",
   "execution_count": 10,
   "id": "7cdad9c8",
   "metadata": {},
   "outputs": [],
   "source": [
    "# intercambiar columnas a filas y viceversa\n",
    "\n",
    "# CARBON\n",
    "df_carbon = df_carbon.T\n",
    "\n",
    "# COVID\n",
    "df_covid = df_covid.T"
   ]
  },
  {
   "cell_type": "code",
   "execution_count": 11,
   "id": "dcc0bef0",
   "metadata": {},
   "outputs": [],
   "source": [
    "# mostrar colmumna de Migración neta en el 2021\n",
    "df_migracion_2021=df_migracion.iloc[:,[0,65]]\n",
    "\n",
    "# mostrar colmumna de muertes por covid en 2023 - 12 - octubre\n",
    "df_covid_2023=df_covid.iloc[:,[1378]]\n",
    "\n",
    "# guardar data solo de emisiones de CO2 en 2021\n",
    "df_carbon_2021 = df_carbon.iloc[:,[0,6]]"
   ]
  },
  {
   "cell_type": "code",
   "execution_count": 12,
   "id": "cc1ede7f",
   "metadata": {},
   "outputs": [],
   "source": [
    "# COVID\n",
    "# Resetear el índice y convertirlo en una columna\n",
    "df_covid_2023 = df_covid_2023.reset_index()"
   ]
  },
  {
   "cell_type": "code",
   "execution_count": 13,
   "id": "f97e736b",
   "metadata": {},
   "outputs": [
    {
     "name": "stderr",
     "output_type": "stream",
     "text": [
      "C:\\Users\\cpauc\\AppData\\Local\\Temp\\ipykernel_22772\\582211230.py:9: SettingWithCopyWarning: \n",
      "A value is trying to be set on a copy of a slice from a DataFrame\n",
      "\n",
      "See the caveats in the documentation: https://pandas.pydata.org/pandas-docs/stable/user_guide/indexing.html#returning-a-view-versus-a-copy\n",
      "  df_carbon_2021.drop(index=chau_fila_c, inplace=True)\n"
     ]
    }
   ],
   "source": [
    "# MIGRACION\n",
    "# eliminar filas 0,1,2 (fecha de actualizacion, NaN, Nombre de país)\n",
    "chau_fila_m=[0,1,2]\n",
    "df_migracion_2021 = df_migracion_2021.drop(index=chau_fila_m)\n",
    "\n",
    "# CARBON\n",
    "# eliminar fila 0 (emision de CO2)\n",
    "chau_fila_c=[\"Territorial emissions in MtCO₂\"]\n",
    "df_carbon_2021.drop(index=chau_fila_c, inplace=True)\n",
    "\n",
    "# COVID\n",
    "# eliminar filas 0,1 (fecha, mundo data)\n",
    "chau_fila_d=[0,1]\n",
    "df_covid_2023.drop(index=chau_fila_d, inplace=True)"
   ]
  },
  {
   "cell_type": "code",
   "execution_count": 14,
   "id": "4230d54b",
   "metadata": {},
   "outputs": [],
   "source": [
    "# MIGRACION\n",
    "# cambiar nombre del indice \"Data Source\" a \"Pais\"\n",
    "df_migracion_2021 = df_migracion_2021.rename(columns={ \"Data Source\" : 'Pais'})\n",
    "\n",
    "# COVID\n",
    "# cambiar nombre del indice \"index\" a \"Pais\"\n",
    "df_covid_2023 = df_covid_2023.rename(columns={'index': 'Pais'})\n",
    "\n",
    "# CARBON\n",
    "# cambiar nombre del indice 0 a \"Pais\"\n",
    "df_carbon_2021 = df_carbon_2021.rename(columns={ 0 : \"Pais\"})"
   ]
  },
  {
   "cell_type": "code",
   "execution_count": 15,
   "id": "a0e637ad",
   "metadata": {},
   "outputs": [],
   "source": [
    "# MIGRACION\n",
    "# cambiar nombre del indice \"Unnamed:66\" a \"Migracion_Neta_2021\"\n",
    "df_migracion_2021 = df_migracion_2021.rename(columns={ \"Unnamed: 65\" : \"Migracion_Neta_2021\"})\n",
    "\n",
    "# COVID\n",
    "# cambiar nombre del indice \"1378\" a 'Muertes_Covid_12_10_2023'\n",
    "df_covid_2023 = df_covid_2023.rename(columns={ 1378 : 'Muertes_Covid_12_10_2023'})\n",
    "\n",
    "# CARBON\n",
    "# cambiar nombre del indice \"Unnamed: 64\" a \"Territorial emissions in MTCO2\"\n",
    "df_carbon_2021 = df_carbon_2021.rename(columns={ 6 : \"Territorial emissions in MTCO2\"})"
   ]
  },
  {
   "cell_type": "code",
   "execution_count": 16,
   "id": "14b686fb",
   "metadata": {},
   "outputs": [],
   "source": [
    "# borrar valores de NaN en Pais\n",
    "\n",
    "# MIGRACION\n",
    "df_migracion_2021 = df_migracion_2021.dropna(subset=['Pais'])\n",
    "\n",
    "# COVID\n",
    "df_covid_2023.dropna(subset=['Pais'])\n",
    "\n",
    "# CARBON\n",
    "df_carbon_2021 = df_carbon_2021.dropna(subset=['Pais'])"
   ]
  },
  {
   "cell_type": "code",
   "execution_count": 17,
   "id": "cb5cdd0e",
   "metadata": {},
   "outputs": [],
   "source": [
    "# MIGRACION\n",
    "# borrar valores de NaN en Migracion_Neta_2021\n",
    "df_migracion_2021 = df_migracion_2021.dropna(subset=['Migracion_Neta_2021'])\n",
    "\n",
    "# COVID\n",
    "# borrar valores de NaN en Muertes_Covid_12_10_2023\n",
    "df_covid_2023.dropna(subset=['Muertes_Covid_12_10_2023'])\n",
    "\n",
    "# CARBON\n",
    "# borrar valores de NaN en Territorial emissions in MTCO2\n",
    "df_carbon_2021 = df_carbon_2021.dropna(subset=['Territorial emissions in MTCO2'])"
   ]
  },
  {
   "cell_type": "code",
   "execution_count": 18,
   "id": "beaab982",
   "metadata": {},
   "outputs": [],
   "source": [
    "# reemplazar \" \" con \"_\" en la data de Pais\n",
    "\n",
    "# MIGRACION\n",
    "df_migracion_2021['Pais'] = df_migracion_2021['Pais'].str.replace(' ', '_')\n",
    "\n",
    "# COVID\n",
    "df_covid_2023['Pais'] = df_covid_2023['Pais'].str.replace(' ', '_')\n",
    "\n",
    "# CARBON\n",
    "df_carbon_2021['Pais'] = df_carbon_2021['Pais'].str.replace(' ', '_')"
   ]
  },
  {
   "cell_type": "code",
   "execution_count": 19,
   "id": "d098e705",
   "metadata": {},
   "outputs": [],
   "source": [
    "# reemplazar tildes\n",
    "\n",
    "# MIGRACION\n",
    "df_migracion_2021['Pais'] = df_migracion_2021['Pais'].str.replace('á', 'a').str.replace('é', 'e').str.replace('í', 'i').str.replace('ó', 'o').str.replace('ú', 'u')\n",
    "df_migracion_2021['Pais'] = df_migracion_2021['Pais'].str.replace('Á', 'A').str.replace('É', 'E').str.replace('Í', 'I').str.replace('Ó', 'O').str.replace('Ú', 'U')\n",
    "\n",
    "# COVID\n",
    "df_covid_2023['Pais'] = df_covid_2023['Pais'].str.replace('á', 'a').str.replace('é', 'e').str.replace('í', 'i').str.replace('ó', 'o').str.replace('ú', 'u')\n",
    "df_covid_2023['Pais'] = df_covid_2023['Pais'].str.replace('Á', 'A').str.replace('É', 'E').str.replace('Í', 'I').str.replace('Ó', 'O').str.replace('Ú', 'U')\n",
    "\n",
    "# CARBON\n",
    "df_carbon_2021['Pais'] = df_carbon_2021['Pais'].str.replace('á', 'a').str.replace('é', 'e').str.replace('í', 'i').str.replace('ó', 'o').str.replace('ú', 'u')\n",
    "df_carbon_2021['Pais'] = df_carbon_2021['Pais'].str.replace('Á', 'A').str.replace('É', 'E').str.replace('Í', 'I').str.replace('Ó', 'O').str.replace('Ú', 'U')"
   ]
  },
  {
   "cell_type": "code",
   "execution_count": 20,
   "id": "aa694a5a",
   "metadata": {},
   "outputs": [],
   "source": [
    "# Borra caracteres especiales de Pais menos \"_\"\n",
    "\n",
    "# MIGRACION\n",
    "df_migracion_2021['Pais'] = df_migracion_2021['Pais'].str.replace('[^a-zA-Z0-9_]', '', regex=True)\n",
    "\n",
    "# COVID\n",
    "df_covid_2023['Pais'] = df_covid_2023['Pais'].str.replace('[^a-zA-Z0-9_]', '', regex=True)\n",
    "\n",
    "# CARBON\n",
    "df_carbon_2021['Pais'] = df_carbon_2021['Pais'].str.replace('[^a-zA-Z0-9_]', '', regex=True)"
   ]
  },
  {
   "cell_type": "code",
   "execution_count": 21,
   "id": "7bd64168",
   "metadata": {},
   "outputs": [],
   "source": [
    "# enumerar correctamente\n",
    "\n",
    "# MIGRACION\n",
    "df_migracion_2021.reset_index(drop=True,inplace=True)\n",
    "\n",
    "# COVID\n",
    "df_covid_2023.reset_index(drop=True,inplace=True)\n",
    "\n",
    "# CARBON\n",
    "df_carbon_2021.reset_index(drop=True,inplace=True)"
   ]
  },
  {
   "cell_type": "code",
   "execution_count": null,
   "id": "b1674386",
   "metadata": {},
   "outputs": [],
   "source": []
  }
 ],
 "metadata": {
  "kernelspec": {
   "display_name": "Python 3 (ipykernel)",
   "language": "python",
   "name": "python3"
  },
  "language_info": {
   "codemirror_mode": {
    "name": "ipython",
    "version": 3
   },
   "file_extension": ".py",
   "mimetype": "text/x-python",
   "name": "python",
   "nbconvert_exporter": "python",
   "pygments_lexer": "ipython3",
   "version": "3.11.4"
  }
 },
 "nbformat": 4,
 "nbformat_minor": 5
}
